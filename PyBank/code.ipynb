{
 "cells": [
  {
   "cell_type": "code",
   "execution_count": 2,
   "id": "f7ef4935",
   "metadata": {},
   "outputs": [],
   "source": [
    "#first import the operating system module (this will allow us to navigate, get inforamtion, read and do more things with the system files)\n",
    "import os\n",
    "\n",
    "# import a csv module as we are going to read/write over as csv file\n",
    "import csv"
   ]
  },
  {
   "cell_type": "code",
   "execution_count": 3,
   "id": "fa6a47a3",
   "metadata": {},
   "outputs": [],
   "source": [
    "#set a path for file; this method is used to concatenate the current working directory with the filename 'budget_data.csv'. (make sure the csv file is in the same directory as the coding script)\n",
    "csvpath = os.path.join('Resources','budget_data.csv')"
   ]
  },
  {
   "cell_type": "code",
   "execution_count": 7,
   "id": "2b5a917d",
   "metadata": {},
   "outputs": [],
   "source": [
    "with open(csvpath) as csvfile:\n",
    "    #Identify the delimiter (which are the commas that seperate the values for date and profit) and the variable holding the contents\n",
    "    csvread = csv.reader(csvfile, delimiter=',')\n",
    "    \n",
    "    #The next() method is used to skip the header row of the CSV file.\n",
    "    next(csvread) \n",
    "    \n",
    "    # creating lists for the columns 'date' and 'profit/losses'\n",
    "    change_list=[]\n",
    "    months = []\n",
    "    profits = []\n",
    "    \n",
    "    # setting the starting conditions to '0' to keep track of the change in profits from month to month, as well as greatest increase and decrease in profits\n",
    "    change=0\n",
    "    greatest_increase = 0\n",
    "    greatest_decrease = 0\n",
    "    \n",
    "    # a for loop is used to iterate over each row in the CSV file. The profit values are converted from strings to integers using the int() function and appended to the profits list. \n",
    "    # the month names are appended to the months list.\n",
    "    for row in csvread:\n",
    "        profits.append(int(row[1]))\n",
    "        months.append(row[0])"
   ]
  },
  {
   "cell_type": "code",
   "execution_count": 8,
   "id": "d9b627cd",
   "metadata": {},
   "outputs": [],
   "source": [
    "#The profits list is converted to integers using a list comprehension.\n",
    "new_profits = []\n",
    "for row in profits:\n",
    "    new_profits.append(int(row))\n",
    "profits = new_profits"
   ]
  },
  {
   "cell_type": "code",
   "execution_count": 9,
   "id": "9d4cbd8b",
   "metadata": {},
   "outputs": [],
   "source": [
    "#for loop through profits indices to find greatest increase and greatest decrease\n",
    "for x in range(len(profits)):\n",
    "    if x < len(profits) - 1:\n",
    "        change = change + (profits[x + 1] - profits[x])\n",
    "        change_list.append(change)\n",
    "        change = 0"
   ]
  },
  {
   "cell_type": "code",
   "execution_count": 10,
   "id": "6f750d6c",
   "metadata": {},
   "outputs": [],
   "source": [
    "#add each profits to total profits, then calculate the average change and rounding values to 2 d.p.\n",
    "average_change = round(sum(change_list) / len(change_list),2)\n",
    "greatest_increase = max(change_list)\n",
    "greatest_decrease = min(change_list)\n",
    "greatest_decrease_month = change_list.index(greatest_decrease)\n",
    "greatest_increase_month = change_list.index(greatest_increase)"
   ]
  },
  {
   "cell_type": "code",
   "execution_count": 11,
   "id": "6bbf3be7",
   "metadata": {},
   "outputs": [],
   "source": [
    "#set variable for greatest and least month\n",
    "greatest_month = months[greatest_increase_month+1]\n",
    "least_month = months[greatest_decrease_month+1]"
   ]
  },
  {
   "cell_type": "code",
   "execution_count": 14,
   "id": "200c9f10",
   "metadata": {},
   "outputs": [
    {
     "name": "stdout",
     "output_type": "stream",
     "text": [
      "Financial Analysis\n",
      "----------------------------\n",
      "Total Months: 86\n",
      "Total: $22564198\n",
      "Average Change: $-8311.11\n",
      "Greatest Increase in Profits: Aug-16 ($1862002)\n",
      "Greatest Decrease in Profits: Feb-14 ($-1825558)\n"
     ]
    }
   ],
   "source": [
    "#creates a path for output file called pybank_output\n",
    "output_file = os.path.join('Analysis','pybank_analysis.txt')\n",
    "\n",
    "#opens the output in text mode and prints the summary\n",
    "with open(output_file, 'w') as text:\n",
    "    text.write('Financial Analysis\\n')\n",
    "    text.write('----------------------------' + '\\n')\n",
    "    text.write('Total Months: ' + str(len(months)) + '\\n')\n",
    "    text.write('Total: $' + str(sum(profits)) + '\\n')\n",
    "    text.write('Average Change: $' + str((average_change)) + '\\n')\n",
    "    text.write('Greatest Increase in Profits: ' + greatest_month + ' ($' + str(greatest_increase) + ')'+ '\\n')\n",
    "    text.write('Greatest Decrease in Profits: ' + least_month + ' ($' + str(greatest_decrease) + ')')\n",
    "\n",
    "#opens the output file in readfile mode and prints\n",
    "with open(output_file, 'r') as readfile:\n",
    "    print(readfile.read())"
   ]
  },
  {
   "cell_type": "code",
   "execution_count": null,
   "id": "2d723c92",
   "metadata": {},
   "outputs": [],
   "source": []
  }
 ],
 "metadata": {
  "kernelspec": {
   "display_name": "Python 3 (ipykernel)",
   "language": "python",
   "name": "python3"
  },
  "language_info": {
   "codemirror_mode": {
    "name": "ipython",
    "version": 3
   },
   "file_extension": ".py",
   "mimetype": "text/x-python",
   "name": "python",
   "nbconvert_exporter": "python",
   "pygments_lexer": "ipython3",
   "version": "3.10.9"
  }
 },
 "nbformat": 4,
 "nbformat_minor": 5
}

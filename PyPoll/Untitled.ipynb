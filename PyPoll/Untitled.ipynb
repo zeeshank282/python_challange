{
 "cells": [
  {
   "cell_type": "code",
   "execution_count": 2,
   "id": "13adbe79",
   "metadata": {},
   "outputs": [],
   "source": [
    "#first import the operating system module (this will allow us to navigate, get inforamtion, read and do more things with the system files)\n",
    "import os\n",
    "# import a csv module as we are going to read/write over as csv file\n",
    "import csv"
   ]
  },
  {
   "cell_type": "code",
   "execution_count": 3,
   "id": "5fb50802",
   "metadata": {},
   "outputs": [],
   "source": [
    "#set a path for file (make sure the csv file is in the same directory as the coding script)\n",
    "csvpath = os.path.join('Resources','election_data.csv')"
   ]
  },
  {
   "cell_type": "code",
   "execution_count": 4,
   "id": "144b7a5b",
   "metadata": {},
   "outputs": [],
   "source": [
    "#the csv file is opened using the with statement, and a csv.reader object is created\n",
    "with open(csvpath, 'r') as csvfile:\n",
    "    csvread = csv.reader(csvfile)\n",
    "    \n",
    "    #the next function is called to skip the header row of the csv file\n",
    "    next(csvread)\n",
    "    \n",
    "    #a dictionary called poll is created to store the name of each candidate as the key and the number of votes as the value\n",
    "    poll = {}\n",
    "    \n",
    "    #creates list used to store candidates, vote counts, vote percent, and winner list\n",
    "    number_votes = []\n",
    "    candidates = []\n",
    "    vote_percent = []\n",
    "    winner_list = []\n",
    "    \n",
    "    #Set variable for total votes as a counter, starting at 0, , which will later be used to count the total number of votes cast\n",
    "    total_votes = 0\n",
    "\n",
    "    # this counts the total number of votes cast in the election, and tallies the number of votes each candidate received by incrementing the count for that candidate's name in the poll dictionary  \n",
    "    for row in csvread:\n",
    "        total_votes = total_votes + 1\n",
    "        if row[2] in poll.keys():\n",
    "            poll[row[2]] = poll[row[2]] + 1\n",
    "        else:\n",
    "            poll[row[2]] = 1"
   ]
  },
  {
   "cell_type": "code",
   "execution_count": 5,
   "id": "8b329c44",
   "metadata": {},
   "outputs": [],
   "source": [
    "# this loops through each item in poll using the items() method, which returns a tuple for each key-value pair\n",
    "for key, value in poll.items():\n",
    "    candidates.append(key)\n",
    "    number_votes.append(value)"
   ]
  },
  {
   "cell_type": "code",
   "execution_count": 6,
   "id": "e923d38f",
   "metadata": {},
   "outputs": [],
   "source": [
    "#append vote percent\n",
    "for n in number_votes:\n",
    "    #round percentage to 3 d.p.\n",
    "    vote_percent.append(round(n/total_votes*100, 3))"
   ]
  },
  {
   "cell_type": "code",
   "execution_count": 7,
   "id": "08538690",
   "metadata": {},
   "outputs": [],
   "source": [
    "#clean_data is a list of tuples, where each tuple contains a candidate's name, number of votes they received, and their percentage of the total votes\n",
    "clean_data = list(zip(candidates, number_votes, vote_percent))"
   ]
  },
  {
   "cell_type": "code",
   "execution_count": 8,
   "id": "7274e0dd",
   "metadata": {},
   "outputs": [],
   "source": [
    "#for loop to look through winner_list (which will contain the names of all the candidates) to find who received the most votes\n",
    "for name in clean_data:\n",
    "    if max(number_votes) == name[1]:\n",
    "        winner_list.append(name[0])"
   ]
  },
  {
   "cell_type": "code",
   "execution_count": 9,
   "id": "a9fb84f8",
   "metadata": {},
   "outputs": [],
   "source": [
    "#makes winner_list as a string with the first entry\n",
    "winner = winner_list[0]"
   ]
  },
  {
   "cell_type": "code",
   "execution_count": null,
   "id": "0e16eabc",
   "metadata": {},
   "outputs": [],
   "source": []
  }
 ],
 "metadata": {
  "kernelspec": {
   "display_name": "Python 3 (ipykernel)",
   "language": "python",
   "name": "python3"
  },
  "language_info": {
   "codemirror_mode": {
    "name": "ipython",
    "version": 3
   },
   "file_extension": ".py",
   "mimetype": "text/x-python",
   "name": "python",
   "nbconvert_exporter": "python",
   "pygments_lexer": "ipython3",
   "version": "3.10.9"
  }
 },
 "nbformat": 4,
 "nbformat_minor": 5
}
